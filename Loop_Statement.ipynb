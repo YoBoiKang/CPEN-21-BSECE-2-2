{
  "nbformat": 4,
  "nbformat_minor": 0,
  "metadata": {
    "colab": {
      "name": "Loop Statement.ipynb",
      "provenance": [],
      "toc_visible": true,
      "authorship_tag": "ABX9TyNhxvKFeahCWapkUylzbm0+",
      "include_colab_link": true
    },
    "kernelspec": {
      "name": "python3",
      "display_name": "Python 3"
    },
    "language_info": {
      "name": "python"
    }
  },
  "cells": [
    {
      "cell_type": "markdown",
      "metadata": {
        "id": "view-in-github",
        "colab_type": "text"
      },
      "source": [
        "<a href=\"https://colab.research.google.com/github/YoBoiKang/CPEN-21-BSECE-2-2/blob/main/Loop_Statement.ipynb\" target=\"_parent\"><img src=\"https://colab.research.google.com/assets/colab-badge.svg\" alt=\"Open In Colab\"/></a>"
      ]
    },
    {
      "cell_type": "code",
      "metadata": {
        "id": "6J0UyNrXz8kZ"
      },
      "source": [
        ""
      ],
      "execution_count": null,
      "outputs": []
    },
    {
      "cell_type": "markdown",
      "metadata": {
        "id": "jcO_C43z1I7A"
      },
      "source": [
        "##For Loop"
      ]
    },
    {
      "cell_type": "code",
      "metadata": {
        "colab": {
          "base_uri": "https://localhost:8080/"
        },
        "id": "3znaaLBQ1NM8",
        "outputId": "4d94c020-5e46-478a-9474-92c70230ddf6"
      },
      "source": [
        "week = [\"Sunday\", \"Monday\", \"Tuesday\", \"Wednesday\", \"Thursday\", \"Friday\"]\n",
        "\n",
        "for x in week:\n",
        "  print(x)\n",
        "  if x == \"Thursday\":\n",
        "    break\n",
        "\n"
      ],
      "execution_count": 6,
      "outputs": [
        {
          "output_type": "stream",
          "name": "stdout",
          "text": [
            "Sunday\n",
            "Monday\n",
            "Tuesday\n",
            "Wednesday\n",
            "Thursday\n"
          ]
        }
      ]
    },
    {
      "cell_type": "code",
      "metadata": {
        "id": "1M46RckL3HJx"
      },
      "source": [
        "week = [\"Sunday\", \"Monday\", \"Tuesday\", \"Wednesday\", \"Thursday\", \"Friday\"]\n",
        "\n",
        "for x in week:\n",
        "  if x == \"Thursday\":\n",
        "    break\n",
        "    print(x)\n",
        " \n",
        "  "
      ],
      "execution_count": null,
      "outputs": []
    },
    {
      "cell_type": "markdown",
      "metadata": {
        "id": "i4EE0k5l4Qhh"
      },
      "source": [
        "##Looping Through String"
      ]
    },
    {
      "cell_type": "code",
      "metadata": {
        "id": "TGKXrepE4Tf5",
        "outputId": "07647b0e-7d8c-4271-ec01-daf032a2505d",
        "colab": {
          "base_uri": "https://localhost:8080/"
        }
      },
      "source": [
        "for x in \"week\":\n",
        "  print (x)\n"
      ],
      "execution_count": 10,
      "outputs": [
        {
          "output_type": "stream",
          "name": "stdout",
          "text": [
            "w\n",
            "e\n",
            "e\n",
            "k\n"
          ]
        }
      ]
    },
    {
      "cell_type": "markdown",
      "metadata": {
        "id": "fj8njbfg4rlh"
      },
      "source": [
        "##The Range Function"
      ]
    },
    {
      "cell_type": "code",
      "metadata": {
        "id": "K2Mc4lSY4uTx",
        "outputId": "beba7b84-b717-4f21-d985-d2986a08f61c",
        "colab": {
          "base_uri": "https://localhost:8080/"
        }
      },
      "source": [
        "for x in  range(6):\n",
        "  print(x)\n",
        "\n"
      ],
      "execution_count": 11,
      "outputs": [
        {
          "output_type": "stream",
          "name": "stdout",
          "text": [
            "0\n",
            "1\n",
            "2\n",
            "3\n",
            "4\n",
            "5\n"
          ]
        }
      ]
    },
    {
      "cell_type": "code",
      "metadata": {
        "id": "2UIv2WMT5MNh",
        "outputId": "a3022075-9415-40c8-eb3f-f6cd5dc459de",
        "colab": {
          "base_uri": "https://localhost:8080/"
        }
      },
      "source": [
        "for x in range(2,6):\n",
        "  print(x)"
      ],
      "execution_count": 12,
      "outputs": [
        {
          "output_type": "stream",
          "name": "stdout",
          "text": [
            "2\n",
            "3\n",
            "4\n",
            "5\n"
          ]
        }
      ]
    },
    {
      "cell_type": "markdown",
      "metadata": {
        "id": "RRmvCLH15pDZ"
      },
      "source": [
        "##Nested Lopps"
      ]
    },
    {
      "cell_type": "code",
      "metadata": {
        "id": "nBqnb-Bo5q6Q",
        "outputId": "2d5f78ae-8741-418d-9758-1fec51da29e5",
        "colab": {
          "base_uri": "https://localhost:8080/"
        }
      },
      "source": [
        "adjective = [\"red\", \"big\", \"tasty\"]\n",
        "fruits = [\"apple\", \"banana\", \"cherry\"]\n",
        "\n",
        "for x in adjective:\n",
        "  for y in fruits:\n",
        "    print(x,y)"
      ],
      "execution_count": 13,
      "outputs": [
        {
          "output_type": "stream",
          "name": "stdout",
          "text": [
            "red apple\n",
            "red banana\n",
            "red cherry\n",
            "big apple\n",
            "big banana\n",
            "big cherry\n",
            "tasty apple\n",
            "tasty banana\n",
            "tasty cherry\n"
          ]
        }
      ]
    },
    {
      "cell_type": "markdown",
      "metadata": {
        "id": "28F_AM9h84dp"
      },
      "source": [
        "##While Loop"
      ]
    },
    {
      "cell_type": "code",
      "metadata": {
        "id": "79CwsU4q86Ep",
        "outputId": "0d6fa8c8-1b47-44da-e6fc-0f09aacdd1b4",
        "colab": {
          "base_uri": "https://localhost:8080/"
        }
      },
      "source": [
        "i = 1\n",
        "\n",
        "while i<6:\n",
        "  print(i)\n",
        "  i+=1 #Assignment operator for addition\n"
      ],
      "execution_count": 14,
      "outputs": [
        {
          "output_type": "stream",
          "name": "stdout",
          "text": [
            "1\n",
            "2\n",
            "3\n",
            "4\n",
            "5\n"
          ]
        }
      ]
    },
    {
      "cell_type": "markdown",
      "metadata": {
        "id": "EJd_lZsF9TCJ"
      },
      "source": [
        "##The Break Statement"
      ]
    },
    {
      "cell_type": "code",
      "metadata": {
        "id": "8WQQixfv9YUB",
        "outputId": "55879464-c0f1-4c5d-f384-c90bd8635347",
        "colab": {
          "base_uri": "https://localhost:8080/"
        }
      },
      "source": [
        "i = 1\n",
        "\n",
        "while i<6:\n",
        "  print(i)\n",
        "  if i==3:\n",
        "    break\n",
        "  i+=1 #Assignment operator for addition\n"
      ],
      "execution_count": 17,
      "outputs": [
        {
          "output_type": "stream",
          "name": "stdout",
          "text": [
            "1\n",
            "2\n",
            "3\n"
          ]
        }
      ]
    },
    {
      "cell_type": "markdown",
      "metadata": {
        "id": "XVk8BsRx-QfB"
      },
      "source": [
        "##The Continue Statement"
      ]
    },
    {
      "cell_type": "code",
      "metadata": {
        "id": "pHVPct8r-T5B",
        "outputId": "ab5f140a-f19f-425b-900c-0e58037aa33f",
        "colab": {
          "base_uri": "https://localhost:8080/"
        }
      },
      "source": [
        "i = 0\n",
        "while i < 6:\n",
        "  i+=1\n",
        "  if i == 3:\n",
        "    continue\n",
        "  print(i)"
      ],
      "execution_count": 18,
      "outputs": [
        {
          "output_type": "stream",
          "name": "stdout",
          "text": [
            "1\n",
            "2\n",
            "4\n",
            "5\n",
            "6\n"
          ]
        }
      ]
    },
    {
      "cell_type": "markdown",
      "metadata": {
        "id": "aib8pmb9_FmR"
      },
      "source": [
        "##The Else Statement"
      ]
    },
    {
      "cell_type": "code",
      "metadata": {
        "id": "UKmIZB0L_IqR",
        "outputId": "d9f6cac2-d5a7-4bfb-8966-fd829d0bf7f8",
        "colab": {
          "base_uri": "https://localhost:8080/"
        }
      },
      "source": [
        "i=1\n",
        "while i<6:\n",
        "  print(i)\n",
        "  i+=1\n",
        "else:\n",
        "  print(\"i is no longer less than 6\")"
      ],
      "execution_count": 25,
      "outputs": [
        {
          "output_type": "stream",
          "name": "stdout",
          "text": [
            "1\n",
            "2\n",
            "3\n",
            "4\n",
            "5\n",
            "i is no longer less than 6\n"
          ]
        }
      ]
    },
    {
      "cell_type": "markdown",
      "metadata": {
        "id": "q5GJ7ufd_2QR"
      },
      "source": [
        "##Application 1"
      ]
    },
    {
      "cell_type": "code",
      "metadata": {
        "id": "S2toicCg_4wD",
        "outputId": "25a4949d-7f74-4e6e-9ab3-a1e5ba11278c",
        "colab": {
          "base_uri": "https://localhost:8080/"
        }
      },
      "source": [
        "#Create a Python Program that Displays Hello 0 to Hello 10 vertically\n",
        "\n",
        "adjective = [\"Hello\"]\n",
        "numbers = [\"0\", \"1\", \"2\", \"3\", \"4\", \"5\", \"6\", \"7\", \"8\", \"9\", \"10\"]\n",
        "\n",
        "for x in adjective:\n",
        "  for y in numbers:\n",
        "    print(x,y)"
      ],
      "execution_count": 22,
      "outputs": [
        {
          "output_type": "stream",
          "name": "stdout",
          "text": [
            "Hello 0\n",
            "Hello 1\n",
            "Hello 2\n",
            "Hello 3\n",
            "Hello 4\n",
            "Hello 5\n",
            "Hello 6\n",
            "Hello 7\n",
            "Hello 8\n",
            "Hello 9\n",
            "Hello 10\n"
          ]
        }
      ]
    },
    {
      "cell_type": "markdown",
      "metadata": {
        "id": "1jjAe7oWBSSr"
      },
      "source": [
        "##Application 2"
      ]
    },
    {
      "cell_type": "code",
      "metadata": {
        "id": "_8eh3lUyBUfg",
        "outputId": "19318bae-5cb5-4756-85d7-0d33421e31b0",
        "colab": {
          "base_uri": "https://localhost:8080/"
        }
      },
      "source": [
        "#Create a Python Program that displays integers less than 10 but not less than 3\n",
        "\n",
        "for x in range(3,10):\n",
        "  print(x)"
      ],
      "execution_count": 23,
      "outputs": [
        {
          "output_type": "stream",
          "name": "stdout",
          "text": [
            "3\n",
            "4\n",
            "5\n",
            "6\n",
            "7\n",
            "8\n",
            "9\n"
          ]
        }
      ]
    }
  ]
}