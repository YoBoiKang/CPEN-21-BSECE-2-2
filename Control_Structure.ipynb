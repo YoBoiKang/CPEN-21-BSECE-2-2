{
  "nbformat": 4,
  "nbformat_minor": 0,
  "metadata": {
    "colab": {
      "name": "Control Structure.ipynb",
      "provenance": [],
      "authorship_tag": "ABX9TyMS7pxLgbiXRJnE8O7MqjX2",
      "include_colab_link": true
    },
    "kernelspec": {
      "name": "python3",
      "display_name": "Python 3"
    },
    "language_info": {
      "name": "python"
    }
  },
  "cells": [
    {
      "cell_type": "markdown",
      "metadata": {
        "id": "view-in-github",
        "colab_type": "text"
      },
      "source": [
        "<a href=\"https://colab.research.google.com/github/YoBoiKang/CPEN-21-BSECE-2-2/blob/main/Control_Structure.ipynb\" target=\"_parent\"><img src=\"https://colab.research.google.com/assets/colab-badge.svg\" alt=\"Open In Colab\"/></a>"
      ]
    },
    {
      "cell_type": "markdown",
      "metadata": {
        "id": "onzMtulzv1Ft"
      },
      "source": [
        ""
      ]
    },
    {
      "cell_type": "markdown",
      "metadata": {
        "id": "Toj2ap3Ev2y1"
      },
      "source": [
        "##**Conditional Statement in Python**"
      ]
    },
    {
      "cell_type": "markdown",
      "metadata": {
        "id": "Jmwoc7A8xmmS"
      },
      "source": [
        "If Statement\n"
      ]
    },
    {
      "cell_type": "code",
      "metadata": {
        "colab": {
          "base_uri": "https://localhost:8080/"
        },
        "id": "O-V569tIxpiF",
        "outputId": "76d48a18-98cc-4ce3-ab74-1bb329ac68e0"
      },
      "source": [
        "a = 12\n",
        "b = 100\n",
        "if b>a:\n",
        "  print(\"b is greather than a\")\n",
        "  \n"
      ],
      "execution_count": 3,
      "outputs": [
        {
          "output_type": "stream",
          "name": "stdout",
          "text": [
            "b is greather than a\n"
          ]
        }
      ]
    },
    {
      "cell_type": "markdown",
      "metadata": {
        "id": "BlM55s8ryobs"
      },
      "source": [
        "Elif Statement"
      ]
    },
    {
      "cell_type": "code",
      "metadata": {
        "colab": {
          "base_uri": "https://localhost:8080/"
        },
        "id": "riYOySFgytgQ",
        "outputId": "65c4e018-88e9-4d9f-9e60-be074c9f351e"
      },
      "source": [
        "a = 12\n",
        "b = 100\n",
        "if b<a:\n",
        "  print(\"b is less than a\")\n",
        "elif b>a:\n",
        "  print(\"b is greather than a\")\n",
        "  \n"
      ],
      "execution_count": 5,
      "outputs": [
        {
          "output_type": "stream",
          "name": "stdout",
          "text": [
            "b is greather than a\n"
          ]
        }
      ]
    },
    {
      "cell_type": "markdown",
      "metadata": {
        "id": "71CQcM8uzEbt"
      },
      "source": [
        "Else Statement\n"
      ]
    },
    {
      "cell_type": "code",
      "metadata": {
        "colab": {
          "base_uri": "https://localhost:8080/"
        },
        "id": "513Qg9bzzM4_",
        "outputId": "5ddeb6ee-defa-458b-c39c-230fd2d44b8f"
      },
      "source": [
        "a = 12\n",
        "b = 12\n",
        "if b<a:\n",
        "  print(\"b is less than a\")\n",
        "elif b>a:\n",
        "  print(\"b is greather than a\")\n",
        "else:\n",
        "  print(\"a is equal to b\")\n",
        "  \n"
      ],
      "execution_count": 6,
      "outputs": [
        {
          "output_type": "stream",
          "name": "stdout",
          "text": [
            "a is equal to b\n"
          ]
        }
      ]
    },
    {
      "cell_type": "markdown",
      "metadata": {
        "id": "tjK7sjy-zxwE"
      },
      "source": [
        "Short Hand If...Else"
      ]
    },
    {
      "cell_type": "code",
      "metadata": {
        "colab": {
          "base_uri": "https://localhost:8080/"
        },
        "id": "yRhDd3wZz2TE",
        "outputId": "3d9934fb-0e2c-4a1c-94ed-8cb928442fea"
      },
      "source": [
        "a = 2\n",
        "b = 330\n",
        "print(\"A\") if a>b else print(\"B\")\n"
      ],
      "execution_count": 15,
      "outputs": [
        {
          "output_type": "stream",
          "name": "stdout",
          "text": [
            "B\n"
          ]
        }
      ]
    },
    {
      "cell_type": "markdown",
      "metadata": {
        "id": "8WAeHJUP1NYt"
      },
      "source": [
        "And Condition"
      ]
    },
    {
      "cell_type": "code",
      "metadata": {
        "colab": {
          "base_uri": "https://localhost:8080/"
        },
        "id": "KGzB_-Qg1PaF",
        "outputId": "71b192e5-9028-4746-e4b7-d5de4d5b3946"
      },
      "source": [
        "a = 200\n",
        "b = 33\n",
        "c = 500\n",
        "\n",
        "if a>b and a<c:\n",
        "  print(\"The conditions need to be True\")"
      ],
      "execution_count": 20,
      "outputs": [
        {
          "output_type": "stream",
          "name": "stdout",
          "text": [
            "The conditions need to be True\n"
          ]
        }
      ]
    },
    {
      "cell_type": "markdown",
      "metadata": {
        "id": "zNyu6-5n2HC4"
      },
      "source": [
        "Or Condition"
      ]
    },
    {
      "cell_type": "code",
      "metadata": {
        "colab": {
          "base_uri": "https://localhost:8080/"
        },
        "id": "Q8_KAxqT2Ivb",
        "outputId": "1f692a3a-472e-4da1-93dd-ddfa3be46fc4"
      },
      "source": [
        "a = 200\n",
        "b = 33\n",
        "c = 500\n",
        "\n",
        "if a>b or a<b:\n",
        "  print(\"At least one of the conditions is True\")"
      ],
      "execution_count": 23,
      "outputs": [
        {
          "output_type": "stream",
          "name": "stdout",
          "text": [
            "At least one of the conditions is True\n"
          ]
        }
      ]
    },
    {
      "cell_type": "markdown",
      "metadata": {
        "id": "07EjnHDS3mK8"
      },
      "source": [
        "Nested If"
      ]
    },
    {
      "cell_type": "code",
      "metadata": {
        "colab": {
          "base_uri": "https://localhost:8080/"
        },
        "id": "gtEUDgTm3nlT",
        "outputId": "20c85253-c21d-4970-c53a-7a4938ce4ba5"
      },
      "source": [
        "a = 41\n",
        "\n",
        "if a > 10:\n",
        "  print(\"Above 10\")\n",
        "  if a > 20 :\n",
        "    print(\"Above 20\")\n",
        "  else:\n",
        "    print(\"not above 20\")"
      ],
      "execution_count": 24,
      "outputs": [
        {
          "output_type": "stream",
          "name": "stdout",
          "text": [
            "Above 10\n",
            "Above 20\n"
          ]
        }
      ]
    },
    {
      "cell_type": "markdown",
      "metadata": {
        "id": "b9g_36sP4Kxa"
      },
      "source": [
        "Nested If Else"
      ]
    },
    {
      "cell_type": "code",
      "metadata": {
        "colab": {
          "base_uri": "https://localhost:8080/"
        },
        "id": "IGRBt-y24Qqb",
        "outputId": "9cd019bb-11df-4aa9-9d26-b3c002b70d88"
      },
      "source": [
        "a = 4\n",
        "\n",
        "if a > 10:\n",
        "  print(\"Above 10\")\n",
        "  if a > 20 :\n",
        "    print(\"Above 20\")\n",
        "  else:\n",
        "    print(\"not above 20\")\n",
        "else:\n",
        "  print(\"below 10\")"
      ],
      "execution_count": 26,
      "outputs": [
        {
          "output_type": "stream",
          "name": "stdout",
          "text": [
            "below 10\n"
          ]
        }
      ]
    },
    {
      "cell_type": "markdown",
      "metadata": {
        "id": "16S_Xinu5WEj"
      },
      "source": [
        "**Example 1**\n",
        "Write a program that determines if the input is qualified to vote or not. The qualifying age is 18 years pld and above."
      ]
    },
    {
      "cell_type": "code",
      "metadata": {
        "colab": {
          "base_uri": "https://localhost:8080/"
        },
        "id": "C0miq7665ncL",
        "outputId": "571c2d02-20b9-4444-b9fd-af54bd117f62"
      },
      "source": [
        "# The qualifying age to vote\n",
        "\n",
        "age = 37\n",
        "\n",
        "if age >= 18:\n",
        "  print(\"Qualified to vote\")\n",
        "else:\n",
        "  print(\"You are not qualified to vote\")"
      ],
      "execution_count": 29,
      "outputs": [
        {
          "output_type": "stream",
          "name": "stdout",
          "text": [
            "Qualified to vote\n"
          ]
        }
      ]
    },
    {
      "cell_type": "markdown",
      "metadata": {
        "id": "1IqDQxWC7gbw"
      },
      "source": [
        "**Example 2**\n",
        "Write a program that determines if the input numper is POSITIVE or NEGATIVE. Consider 0 as POSITIVE."
      ]
    },
    {
      "cell_type": "code",
      "metadata": {
        "colab": {
          "base_uri": "https://localhost:8080/"
        },
        "id": "97Tepigr775o",
        "outputId": "2d43e88b-2b58-474d-a0bc-4219c8895fad"
      },
      "source": [
        "# Whether Positive or Negative\n",
        "\n",
        "number = 0\n",
        "\n",
        "if number >= 0:\n",
        "  print(\"Positive\")\n",
        "else:\n",
        "  print(\"Negative\")"
      ],
      "execution_count": 32,
      "outputs": [
        {
          "output_type": "stream",
          "name": "stdout",
          "text": [
            "Positive\n"
          ]
        }
      ]
    },
    {
      "cell_type": "markdown",
      "metadata": {
        "id": "gfwJdNpzBLQE"
      },
      "source": [
        "**Example 3** "
      ]
    },
    {
      "cell_type": "code",
      "metadata": {
        "id": "lfSg_VpRBaRX"
      },
      "source": [
        ""
      ],
      "execution_count": null,
      "outputs": []
    },
    {
      "cell_type": "code",
      "metadata": {
        "id": "KEoeqmeVBi1p"
      },
      "source": [
        "# Determine if grades are Passed, Remedial or Failed\n",
        "\n",
        "grade = 72\n",
        "\n",
        "if grade >75:\n",
        "  print(\"Passed\")\n",
        "  if grade ==74:\n",
        "    print(\"Remedial\")\n",
        "    if grade <74:\n",
        "      print(\"Failed\")\n",
        " \n",
        "    \n"
      ],
      "execution_count": 61,
      "outputs": []
    }
  ]
}