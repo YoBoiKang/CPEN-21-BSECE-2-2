{
  "nbformat": 4,
  "nbformat_minor": 0,
  "metadata": {
    "colab": {
      "name": "Final Exam.ipynb",
      "provenance": [],
      "authorship_tag": "ABX9TyMFNBRglwe6Z8+Lt3bV7FI8",
      "include_colab_link": true
    },
    "kernelspec": {
      "name": "python3",
      "display_name": "Python 3"
    },
    "language_info": {
      "name": "python"
    }
  },
  "cells": [
    {
      "cell_type": "markdown",
      "metadata": {
        "id": "view-in-github",
        "colab_type": "text"
      },
      "source": [
        "<a href=\"https://colab.research.google.com/github/YoBoiKang/CPEN-21-BSECE-2-2/blob/main/Final_Exam.ipynb\" target=\"_parent\"><img src=\"https://colab.research.google.com/assets/colab-badge.svg\" alt=\"Open In Colab\"/></a>"
      ]
    },
    {
      "cell_type": "markdown",
      "source": [
        "###**Problem Statement #1**"
      ],
      "metadata": {
        "id": "gYAwzUqSjFn-"
      }
    },
    {
      "cell_type": "code",
      "source": [
        "#Create a Python program that will produce an output of sum of 10 numbers less than 5 using FOR LOOP statement.\n",
        "\n",
        "a =(1,2,3,4,1,2,3,4,2,3,4)\n",
        "total = 0\n",
        "for b in a:\n",
        "  total=total + b\n",
        "print(total)"
      ],
      "metadata": {
        "colab": {
          "base_uri": "https://localhost:8080/"
        },
        "id": "oa9SMa_r1MSf",
        "outputId": "c6903c52-8458-4ff4-e0c9-b347efb32b6d"
      },
      "execution_count": 23,
      "outputs": [
        {
          "output_type": "stream",
          "name": "stdout",
          "text": [
            "29\n"
          ]
        }
      ]
    },
    {
      "cell_type": "markdown",
      "source": [
        "##**Problem Statement #2**"
      ],
      "metadata": {
        "id": "H1jV3vDBpa9E"
      }
    },
    {
      "cell_type": "code",
      "source": [
        "#Create a Python program that will produce accept five numbers and determine the sum of first and last number among the five numbers entered using WHILE LOOP    \n",
        "\n",
        "print(\"Enter 5 numbers : \")\n",
        "\n",
        "list = []\n",
        "count = 0 \n",
        "\n",
        "#Accept 5 integers using While Loop\n",
        "while count < 5:\n",
        "  num = int(input())\n",
        "  list.append(num)\n",
        "  count = count + 1\n",
        "\n",
        "# Sum of First and Last Number\n",
        "sum = 0;\n",
        "sum  = sum + list [0]\n",
        "sum = sum + list [-1]\n",
        "\n",
        "print(\"sum = \",sum)2\n",
        "4\n"
      ],
      "metadata": {
        "colab": {
          "base_uri": "https://localhost:8080/"
        },
        "id": "CO8ULKOtwCwp",
        "outputId": "9fe5c36f-b0e8-455c-e132-6f0dfda2243a"
      },
      "execution_count": 4,
      "outputs": [
        {
          "output_type": "stream",
          "name": "stdout",
          "text": [
            "Enter 5 numbers : \n",
            "1\n",
            "3\n",
            "2 \n",
            "4\n",
            "5\n",
            "sum =  6\n"
          ]
        }
      ]
    },
    {
      "cell_type": "markdown",
      "source": [
        "##**Problem Statement #3**"
      ],
      "metadata": {
        "id": "K8GZHwENw2DB"
      }
    },
    {
      "cell_type": "code",
      "source": [
        "#Create a Python program to calculate student grades. It accepts a numerical grade as input and it will display the character grade as output based on the given scale: (Use Nested-IF-Else statement)\n",
        "\n",
        "g=int(input(\"ENTER YOUR GRADE :\"))\n",
        "if g >= 90:\n",
        "  print(\"GRADE:A\")\n",
        "else:\n",
        "  if g >= 80:\n",
        "    print(\"GRADE:B\")\n",
        "  else:\n",
        "      if g >= 70:\n",
        "        print(\"GRADE:C\")\n",
        "      else:\n",
        "          if g >= 60:\n",
        "            print(\"GRADE:D\")\n",
        "          else:\n",
        "              if g < 60:\n",
        "                print(\"GRADE:F\")"
      ],
      "metadata": {
        "colab": {
          "base_uri": "https://localhost:8080/"
        },
        "id": "7iFdttnOw9Uu",
        "outputId": "df657d23-1b61-4140-c482-f2a76d89109d"
      },
      "execution_count": 10,
      "outputs": [
        {
          "output_type": "stream",
          "name": "stdout",
          "text": [
            "ENTER YOUR GRADE :89\n",
            "GRADE:B\n"
          ]
        }
      ]
    }
  ]
}