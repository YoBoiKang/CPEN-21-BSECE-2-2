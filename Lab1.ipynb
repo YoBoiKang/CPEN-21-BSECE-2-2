{
  "nbformat": 4,
  "nbformat_minor": 0,
  "metadata": {
    "colab": {
      "name": "Laboratory 1.ipynb",
      "provenance": [],
      "authorship_tag": "ABX9TyOU+2Fz9++gYEAjjcX6BmxC",
      "include_colab_link": true
    },
    "kernelspec": {
      "name": "python3",
      "display_name": "Python 3"
    },
    "language_info": {
      "name": "python"
    }
  },
  "cells": [
    {
      "cell_type": "markdown",
      "metadata": {
        "id": "view-in-github",
        "colab_type": "text"
      },
      "source": [
        "<a href=\"https://colab.research.google.com/github/YoBoiKang/CPEN-21-BSECE-2-2/blob/main/Lab1.ipynb\" target=\"_parent\"><img src=\"https://colab.research.google.com/assets/colab-badge.svg\" alt=\"Open In Colab\"/></a>"
      ]
    },
    {
      "cell_type": "code",
      "metadata": {
        "colab": {
          "base_uri": "https://localhost:8080/"
        },
        "id": "wYYfTiFYedYa",
        "outputId": "2e66f6ec-7919-48ef-d1b7-06151736b239"
      },
      "source": [
        "print(\"Welcome to Python Programming\")"
      ],
      "execution_count": 5,
      "outputs": [
        {
          "output_type": "stream",
          "name": "stdout",
          "text": [
            "Welcome to Python Programming\n"
          ]
        }
      ]
    },
    {
      "cell_type": "code",
      "metadata": {
        "colab": {
          "base_uri": "https://localhost:8080/"
        },
        "id": "acLSFJ5emn95",
        "outputId": "eabc5ed4-b483-4292-e73f-ee8a0fdca64a"
      },
      "source": [
        "def personal_details():\n",
        "    name, age = \"Gamat, Vince Floyd A.\", 19\n",
        "    address = \"143 Arigo Subdivision, Batong Dalig, Kawit, Cavite\"\n",
        "    print(\"Name: {}\\nAge: {}\\nAddress: {}\".format(name, age, address))\n",
        "\n",
        "personal_details()\n"
      ],
      "execution_count": 13,
      "outputs": [
        {
          "output_type": "stream",
          "name": "stdout",
          "text": [
            "Name: Gamat, Vince Floyd A.\n",
            "Age: 19\n",
            "Address: 143 Arigo Subdivision, Batong Dalig, Kawit, Cavite\n"
          ]
        }
      ]
    }
  ]
}